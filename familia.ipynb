{
  "nbformat": 4,
  "nbformat_minor": 0,
  "metadata": {
    "colab": {
      "name": "Untitled0.ipynb",
      "provenance": [],
      "authorship_tag": "ABX9TyNphd2vx1r/BicXwlzy1zYX",
      "include_colab_link": true
    },
    "kernelspec": {
      "name": "python3",
      "display_name": "Python 3"
    },
    "language_info": {
      "name": "python"
    }
  },
  "cells": [
    {
      "cell_type": "markdown",
      "metadata": {
        "id": "view-in-github",
        "colab_type": "text"
      },
      "source": [
        "<a href=\"https://colab.research.google.com/github/kiadom/PrimerProyecto/blob/master/familia.ipynb\" target=\"_parent\"><img src=\"https://colab.research.google.com/assets/colab-badge.svg\" alt=\"Open In Colab\"/></a>"
      ]
    },
    {
      "cell_type": "code",
      "metadata": {
        "colab": {
          "base_uri": "https://localhost:8080/"
        },
        "id": "eVFj6iqjheqw",
        "outputId": "d67efd40-2dc8-4f17-c572-5f5b9a62ea4e"
      },
      "source": [
        "class Familia:\n",
        "  #Metodo constructor + caracteristicas o atributos\n",
        "  def __init__(self, nombre, edad, parentesco):\n",
        "    #atributos de instancia u objeto\n",
        "    self.nombre = nombre\n",
        "    self.edad = edad\n",
        "    self.parentesco = parentesco\n",
        "  #Metodos o funciones de instancia u objeto\n",
        "  def presentarse(self, x_herman,):\n",
        "    print(\"Hola soy \" + self.nombre + \" como estas \" + x_herman.nombre + \"?\")\n",
        "\n",
        "  def decir(self, x_herman):\n",
        "    print(\"yo soy \" + self.parentesco)\n",
        "\n",
        "lucho = Familia(\"Lucho\", 40, \"el único hijo\")\n",
        "sofia = Familia(\"Sofia\", 41, \"soy la hija mayor\")\n",
        "\n",
        "\n",
        "sofia.presentarse(lucho)\n",
        "lucho.presentarse(sofia)\n",
        "lucho.decir(sofia)\n",
        "  \n",
        " "
      ],
      "execution_count": 28,
      "outputs": [
        {
          "output_type": "stream",
          "text": [
            "Hola soy Sofia como estas Lucho?\n",
            "Hola soy Lucho como estas Sofia?\n",
            "yo soy el único hijo\n"
          ],
          "name": "stdout"
        }
      ]
    }
  ]
}